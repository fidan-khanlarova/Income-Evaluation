{
 "cells": [
  {
   "cell_type": "code",
   "execution_count": 105,
   "id": "315bb44c",
   "metadata": {},
   "outputs": [],
   "source": [
    "import numpy as np\n",
    "import pandas as pd\n",
    "import seaborn as sns\n",
    "import matplotlib.pyplot as plt\n",
    "\n",
    "from sklearn.model_selection import train_test_split\n",
    "from sklearn.metrics import classification_report\n",
    "\n",
    "from sklearn.preprocessing import StandardScaler\n",
    "from sklearn.impute import SimpleImputer\n",
    "from sklearn.preprocessing import OneHotEncoder\n",
    "\n",
    "from sklearn.pipeline import Pipeline\n",
    "from sklearn.compose import ColumnTransformer\n",
    "\n",
    "from sklearn.ensemble import RandomForestClassifier\n",
    "\n",
    "from imblearn.under_sampling import NearMiss"
   ]
  },
  {
   "cell_type": "code",
   "execution_count": 106,
   "id": "3de2f7f3",
   "metadata": {},
   "outputs": [
    {
     "data": {
      "text/html": [
       "<div>\n",
       "<style scoped>\n",
       "    .dataframe tbody tr th:only-of-type {\n",
       "        vertical-align: middle;\n",
       "    }\n",
       "\n",
       "    .dataframe tbody tr th {\n",
       "        vertical-align: top;\n",
       "    }\n",
       "\n",
       "    .dataframe thead th {\n",
       "        text-align: right;\n",
       "    }\n",
       "</style>\n",
       "<table border=\"1\" class=\"dataframe\">\n",
       "  <thead>\n",
       "    <tr style=\"text-align: right;\">\n",
       "      <th></th>\n",
       "      <th>age</th>\n",
       "      <th>workclass</th>\n",
       "      <th>fnlwgt</th>\n",
       "      <th>education</th>\n",
       "      <th>education-num</th>\n",
       "      <th>marital-status</th>\n",
       "      <th>occupation</th>\n",
       "      <th>relationship</th>\n",
       "      <th>race</th>\n",
       "      <th>sex</th>\n",
       "      <th>capital-gain</th>\n",
       "      <th>capital-loss</th>\n",
       "      <th>hours-per-week</th>\n",
       "      <th>native-country</th>\n",
       "      <th>income</th>\n",
       "    </tr>\n",
       "  </thead>\n",
       "  <tbody>\n",
       "    <tr>\n",
       "      <th>50</th>\n",
       "      <td>25</td>\n",
       "      <td>Private</td>\n",
       "      <td>32275</td>\n",
       "      <td>Some-college</td>\n",
       "      <td>10</td>\n",
       "      <td>Married-civ-spouse</td>\n",
       "      <td>Exec-managerial</td>\n",
       "      <td>Wife</td>\n",
       "      <td>Other</td>\n",
       "      <td>Female</td>\n",
       "      <td>0</td>\n",
       "      <td>0</td>\n",
       "      <td>40</td>\n",
       "      <td>United-States</td>\n",
       "      <td>&lt;=50K</td>\n",
       "    </tr>\n",
       "    <tr>\n",
       "      <th>51</th>\n",
       "      <td>18</td>\n",
       "      <td>Private</td>\n",
       "      <td>226956</td>\n",
       "      <td>HS-grad</td>\n",
       "      <td>9</td>\n",
       "      <td>Never-married</td>\n",
       "      <td>Other-service</td>\n",
       "      <td>Own-child</td>\n",
       "      <td>White</td>\n",
       "      <td>Female</td>\n",
       "      <td>0</td>\n",
       "      <td>0</td>\n",
       "      <td>30</td>\n",
       "      <td>?</td>\n",
       "      <td>&lt;=50K</td>\n",
       "    </tr>\n",
       "    <tr>\n",
       "      <th>52</th>\n",
       "      <td>47</td>\n",
       "      <td>Private</td>\n",
       "      <td>51835</td>\n",
       "      <td>Prof-school</td>\n",
       "      <td>15</td>\n",
       "      <td>Married-civ-spouse</td>\n",
       "      <td>Prof-specialty</td>\n",
       "      <td>Wife</td>\n",
       "      <td>White</td>\n",
       "      <td>Female</td>\n",
       "      <td>0</td>\n",
       "      <td>1902</td>\n",
       "      <td>60</td>\n",
       "      <td>Honduras</td>\n",
       "      <td>&gt;50K</td>\n",
       "    </tr>\n",
       "    <tr>\n",
       "      <th>53</th>\n",
       "      <td>50</td>\n",
       "      <td>Federal-gov</td>\n",
       "      <td>251585</td>\n",
       "      <td>Bachelors</td>\n",
       "      <td>13</td>\n",
       "      <td>Divorced</td>\n",
       "      <td>Exec-managerial</td>\n",
       "      <td>Not-in-family</td>\n",
       "      <td>White</td>\n",
       "      <td>Male</td>\n",
       "      <td>0</td>\n",
       "      <td>0</td>\n",
       "      <td>55</td>\n",
       "      <td>United-States</td>\n",
       "      <td>&gt;50K</td>\n",
       "    </tr>\n",
       "    <tr>\n",
       "      <th>54</th>\n",
       "      <td>47</td>\n",
       "      <td>Self-emp-inc</td>\n",
       "      <td>109832</td>\n",
       "      <td>HS-grad</td>\n",
       "      <td>9</td>\n",
       "      <td>Divorced</td>\n",
       "      <td>Exec-managerial</td>\n",
       "      <td>Not-in-family</td>\n",
       "      <td>White</td>\n",
       "      <td>Male</td>\n",
       "      <td>0</td>\n",
       "      <td>0</td>\n",
       "      <td>60</td>\n",
       "      <td>United-States</td>\n",
       "      <td>&lt;=50K</td>\n",
       "    </tr>\n",
       "    <tr>\n",
       "      <th>55</th>\n",
       "      <td>43</td>\n",
       "      <td>Private</td>\n",
       "      <td>237993</td>\n",
       "      <td>Some-college</td>\n",
       "      <td>10</td>\n",
       "      <td>Married-civ-spouse</td>\n",
       "      <td>Tech-support</td>\n",
       "      <td>Husband</td>\n",
       "      <td>White</td>\n",
       "      <td>Male</td>\n",
       "      <td>0</td>\n",
       "      <td>0</td>\n",
       "      <td>40</td>\n",
       "      <td>United-States</td>\n",
       "      <td>&gt;50K</td>\n",
       "    </tr>\n",
       "    <tr>\n",
       "      <th>56</th>\n",
       "      <td>46</td>\n",
       "      <td>Private</td>\n",
       "      <td>216666</td>\n",
       "      <td>5th-6th</td>\n",
       "      <td>3</td>\n",
       "      <td>Married-civ-spouse</td>\n",
       "      <td>Machine-op-inspct</td>\n",
       "      <td>Husband</td>\n",
       "      <td>White</td>\n",
       "      <td>Male</td>\n",
       "      <td>0</td>\n",
       "      <td>0</td>\n",
       "      <td>40</td>\n",
       "      <td>Mexico</td>\n",
       "      <td>&lt;=50K</td>\n",
       "    </tr>\n",
       "    <tr>\n",
       "      <th>57</th>\n",
       "      <td>35</td>\n",
       "      <td>Private</td>\n",
       "      <td>56352</td>\n",
       "      <td>Assoc-voc</td>\n",
       "      <td>11</td>\n",
       "      <td>Married-civ-spouse</td>\n",
       "      <td>Other-service</td>\n",
       "      <td>Husband</td>\n",
       "      <td>White</td>\n",
       "      <td>Male</td>\n",
       "      <td>0</td>\n",
       "      <td>0</td>\n",
       "      <td>40</td>\n",
       "      <td>Puerto-Rico</td>\n",
       "      <td>&lt;=50K</td>\n",
       "    </tr>\n",
       "    <tr>\n",
       "      <th>58</th>\n",
       "      <td>41</td>\n",
       "      <td>Private</td>\n",
       "      <td>147372</td>\n",
       "      <td>HS-grad</td>\n",
       "      <td>9</td>\n",
       "      <td>Married-civ-spouse</td>\n",
       "      <td>Adm-clerical</td>\n",
       "      <td>Husband</td>\n",
       "      <td>White</td>\n",
       "      <td>Male</td>\n",
       "      <td>0</td>\n",
       "      <td>0</td>\n",
       "      <td>48</td>\n",
       "      <td>United-States</td>\n",
       "      <td>&lt;=50K</td>\n",
       "    </tr>\n",
       "    <tr>\n",
       "      <th>59</th>\n",
       "      <td>30</td>\n",
       "      <td>Private</td>\n",
       "      <td>188146</td>\n",
       "      <td>HS-grad</td>\n",
       "      <td>9</td>\n",
       "      <td>Married-civ-spouse</td>\n",
       "      <td>Machine-op-inspct</td>\n",
       "      <td>Husband</td>\n",
       "      <td>White</td>\n",
       "      <td>Male</td>\n",
       "      <td>5013</td>\n",
       "      <td>0</td>\n",
       "      <td>40</td>\n",
       "      <td>United-States</td>\n",
       "      <td>&lt;=50K</td>\n",
       "    </tr>\n",
       "  </tbody>\n",
       "</table>\n",
       "</div>"
      ],
      "text/plain": [
       "    age      workclass   fnlwgt      education   education-num  \\\n",
       "50   25        Private    32275   Some-college              10   \n",
       "51   18        Private   226956        HS-grad               9   \n",
       "52   47        Private    51835    Prof-school              15   \n",
       "53   50    Federal-gov   251585      Bachelors              13   \n",
       "54   47   Self-emp-inc   109832        HS-grad               9   \n",
       "55   43        Private   237993   Some-college              10   \n",
       "56   46        Private   216666        5th-6th               3   \n",
       "57   35        Private    56352      Assoc-voc              11   \n",
       "58   41        Private   147372        HS-grad               9   \n",
       "59   30        Private   188146        HS-grad               9   \n",
       "\n",
       "         marital-status          occupation    relationship    race      sex  \\\n",
       "50   Married-civ-spouse     Exec-managerial            Wife   Other   Female   \n",
       "51        Never-married       Other-service       Own-child   White   Female   \n",
       "52   Married-civ-spouse      Prof-specialty            Wife   White   Female   \n",
       "53             Divorced     Exec-managerial   Not-in-family   White     Male   \n",
       "54             Divorced     Exec-managerial   Not-in-family   White     Male   \n",
       "55   Married-civ-spouse        Tech-support         Husband   White     Male   \n",
       "56   Married-civ-spouse   Machine-op-inspct         Husband   White     Male   \n",
       "57   Married-civ-spouse       Other-service         Husband   White     Male   \n",
       "58   Married-civ-spouse        Adm-clerical         Husband   White     Male   \n",
       "59   Married-civ-spouse   Machine-op-inspct         Husband   White     Male   \n",
       "\n",
       "     capital-gain   capital-loss   hours-per-week  native-country  income  \n",
       "50              0              0               40   United-States   <=50K  \n",
       "51              0              0               30               ?   <=50K  \n",
       "52              0           1902               60        Honduras    >50K  \n",
       "53              0              0               55   United-States    >50K  \n",
       "54              0              0               60   United-States   <=50K  \n",
       "55              0              0               40   United-States    >50K  \n",
       "56              0              0               40          Mexico   <=50K  \n",
       "57              0              0               40     Puerto-Rico   <=50K  \n",
       "58              0              0               48   United-States   <=50K  \n",
       "59           5013              0               40   United-States   <=50K  "
      ]
     },
     "execution_count": 106,
     "metadata": {},
     "output_type": "execute_result"
    }
   ],
   "source": [
    "data=pd.read_csv('files/income_evaluation.csv')\n",
    "df=data.copy()\n",
    "df.head(60).tail(10)"
   ]
  },
  {
   "cell_type": "code",
   "execution_count": 107,
   "id": "56f049e8",
   "metadata": {},
   "outputs": [
    {
     "name": "stdout",
     "output_type": "stream",
     "text": [
      "<class 'pandas.core.frame.DataFrame'>\n",
      "RangeIndex: 32561 entries, 0 to 32560\n",
      "Data columns (total 15 columns):\n",
      " #   Column           Non-Null Count  Dtype \n",
      "---  ------           --------------  ----- \n",
      " 0   age              32561 non-null  int64 \n",
      " 1    workclass       32561 non-null  object\n",
      " 2    fnlwgt          32561 non-null  int64 \n",
      " 3    education       32561 non-null  object\n",
      " 4    education-num   32561 non-null  int64 \n",
      " 5    marital-status  32561 non-null  object\n",
      " 6    occupation      32561 non-null  object\n",
      " 7    relationship    32561 non-null  object\n",
      " 8    race            32561 non-null  object\n",
      " 9    sex             32561 non-null  object\n",
      " 10   capital-gain    32561 non-null  int64 \n",
      " 11   capital-loss    32561 non-null  int64 \n",
      " 12   hours-per-week  32561 non-null  int64 \n",
      " 13   native-country  32561 non-null  object\n",
      " 14   income          32561 non-null  object\n",
      "dtypes: int64(6), object(9)\n",
      "memory usage: 3.7+ MB\n"
     ]
    }
   ],
   "source": [
    "df.info()"
   ]
  },
  {
   "cell_type": "code",
   "execution_count": 108,
   "id": "86c09eaf",
   "metadata": {},
   "outputs": [
    {
     "data": {
      "text/plain": [
       "Index(['age', 'workclass', 'fnlwgt', 'education', 'education-num',\n",
       "       'marital-status', 'occupation', 'relationship', 'race', 'sex',\n",
       "       'capital-gain', 'capital-loss', 'hours-per-week', 'native-country',\n",
       "       'income'],\n",
       "      dtype='object')"
      ]
     },
     "execution_count": 108,
     "metadata": {},
     "output_type": "execute_result"
    }
   ],
   "source": [
    "df.columns=list(map(lambda x: x.strip().lower(),df.columns))\n",
    "df.columns"
   ]
  },
  {
   "cell_type": "code",
   "execution_count": 109,
   "id": "e3ff305b",
   "metadata": {},
   "outputs": [
    {
     "data": {
      "text/plain": [
       "0"
      ]
     },
     "execution_count": 109,
     "metadata": {},
     "output_type": "execute_result"
    }
   ],
   "source": [
    "df.isna().sum().sum()"
   ]
  },
  {
   "cell_type": "code",
   "execution_count": 110,
   "id": "04746ef7",
   "metadata": {},
   "outputs": [
    {
     "data": {
      "text/plain": [
       "0.2408095574460244"
      ]
     },
     "execution_count": 110,
     "metadata": {},
     "output_type": "execute_result"
    }
   ],
   "source": [
    "df['income'].value_counts()[1]/df.shape[0]"
   ]
  },
  {
   "cell_type": "code",
   "execution_count": 111,
   "id": "8e0bfb9b",
   "metadata": {},
   "outputs": [
    {
     "data": {
      "text/plain": [
       "array([' <=50K', ' >50K'], dtype=object)"
      ]
     },
     "execution_count": 111,
     "metadata": {},
     "output_type": "execute_result"
    }
   ],
   "source": [
    "df['income'].unique()"
   ]
  },
  {
   "cell_type": "code",
   "execution_count": 112,
   "id": "e4ee1961",
   "metadata": {},
   "outputs": [],
   "source": [
    "X=df.drop(\"income\",axis=1)\n",
    "y=df['income'].replace({' <=50K':0,' >50K':1})\n",
    "X_train,X_test,y_train,y_test=train_test_split(X,y,test_size=0.2,random_state=4)"
   ]
  },
  {
   "cell_type": "code",
   "execution_count": 113,
   "id": "2d576cae",
   "metadata": {},
   "outputs": [],
   "source": [
    "num_col=X.select_dtypes(include='number').columns\n",
    "cat_col=X.select_dtypes(include='object').columns"
   ]
  },
  {
   "cell_type": "code",
   "execution_count": 114,
   "id": "d735b0aa",
   "metadata": {},
   "outputs": [],
   "source": [
    "num_Pipeline = Pipeline([('scaler', StandardScaler())])\n",
    "cat_Pipeline = Pipeline([('scaler', OneHotEncoder())])"
   ]
  },
  {
   "cell_type": "code",
   "execution_count": 115,
   "id": "3416760c",
   "metadata": {},
   "outputs": [],
   "source": [
    "preprocessor=ColumnTransformer(\n",
    "    [\n",
    "    ('num',num_Pipeline,num_col),\n",
    "    ('cat',cat_Pipeline,cat_col)\n",
    "    ]\n",
    ")"
   ]
  },
  {
   "cell_type": "code",
   "execution_count": 116,
   "id": "87619e15",
   "metadata": {},
   "outputs": [],
   "source": [
    "final_pipeline=Pipeline(\n",
    "    [\n",
    "        ('transformer',preprocessor),\n",
    "        ('estimator',RandomForestClassifier())\n",
    "    ]\n",
    ")"
   ]
  },
  {
   "cell_type": "code",
   "execution_count": 117,
   "id": "c11bbdd3",
   "metadata": {},
   "outputs": [
    {
     "name": "stdout",
     "output_type": "stream",
     "text": [
      "              precision    recall  f1-score   support\n",
      "\n",
      "           0       0.89      0.92      0.90      4972\n",
      "           1       0.70      0.63      0.67      1541\n",
      "\n",
      "    accuracy                           0.85      6513\n",
      "   macro avg       0.80      0.77      0.78      6513\n",
      "weighted avg       0.85      0.85      0.85      6513\n",
      "\n"
     ]
    }
   ],
   "source": [
    "y_pred=final_pipeline.fit(X_train,y_train).predict(X_test)\n",
    "print(classification_report(y_test, y_pred))"
   ]
  },
  {
   "cell_type": "code",
   "execution_count": 118,
   "id": "b2a84602",
   "metadata": {},
   "outputs": [],
   "source": [
    "transformer_pipeline=Pipeline(\n",
    "    [\n",
    "        ('transformer',preprocessor)\n",
    "    ]\n",
    ")"
   ]
  },
  {
   "cell_type": "code",
   "execution_count": 121,
   "id": "99f798cb",
   "metadata": {},
   "outputs": [],
   "source": [
    "X_train=transformer_pipeline.transform(X_train)\n"
   ]
  },
  {
   "cell_type": "code",
   "execution_count": 122,
   "id": "d7ddeb68",
   "metadata": {},
   "outputs": [],
   "source": [
    "undersample=NearMiss(version=1,n_neighbors=3)\n",
    "X_train,y_train=undersample.fit_resample(X_train,y_train)"
   ]
  },
  {
   "cell_type": "code",
   "execution_count": 123,
   "id": "6d87b87a",
   "metadata": {},
   "outputs": [],
   "source": [
    "X_test=transformer_pipeline.transform(X_test)"
   ]
  },
  {
   "cell_type": "code",
   "execution_count": 124,
   "id": "c4445986",
   "metadata": {},
   "outputs": [],
   "source": [
    "model=RandomForestClassifier()"
   ]
  },
  {
   "cell_type": "code",
   "execution_count": 126,
   "id": "e4b41ebb",
   "metadata": {},
   "outputs": [
    {
     "name": "stdout",
     "output_type": "stream",
     "text": [
      "              precision    recall  f1-score   support\n",
      "\n",
      "           0       0.90      0.69      0.78      4972\n",
      "           1       0.43      0.74      0.54      1541\n",
      "\n",
      "    accuracy                           0.70      6513\n",
      "   macro avg       0.66      0.72      0.66      6513\n",
      "weighted avg       0.78      0.70      0.72      6513\n",
      "\n"
     ]
    }
   ],
   "source": [
    "y_pred=model.fit(X_train,y_train).predict(X_test)\n",
    "print(classification_report(y_test, y_pred))"
   ]
  }
 ],
 "metadata": {
  "kernelspec": {
   "display_name": "Python 3 (ipykernel)",
   "language": "python",
   "name": "python3"
  },
  "language_info": {
   "codemirror_mode": {
    "name": "ipython",
    "version": 3
   },
   "file_extension": ".py",
   "mimetype": "text/x-python",
   "name": "python",
   "nbconvert_exporter": "python",
   "pygments_lexer": "ipython3",
   "version": "3.9.13"
  }
 },
 "nbformat": 4,
 "nbformat_minor": 5
}
